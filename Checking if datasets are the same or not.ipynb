{
 "cells": [
  {
   "cell_type": "code",
   "execution_count": 1,
   "id": "75a48299-c712-42dd-8698-35e0f820220a",
   "metadata": {},
   "outputs": [],
   "source": [
    "import pandas as pd"
   ]
  },
  {
   "cell_type": "code",
   "execution_count": 2,
   "id": "9576cab9-090c-43fb-bcec-d50e49034d00",
   "metadata": {},
   "outputs": [
    {
     "name": "stdout",
     "output_type": "stream",
     "text": [
      "(253680, 22)\n",
      "(70692, 22)\n",
      "(253680, 22)\n"
     ]
    }
   ],
   "source": [
    "# Same number of columns and rowsor not?\n",
    "df1 = pd.read_csv(\"diabetes_012_health_indicators_BRFSS2015.csv\")\n",
    "df2 = pd.read_csv(\"diabetes_binary_5050split_health_indicators_BRFSS2015.csv\")\n",
    "df3 = pd.read_csv(\"diabetes_binary_health_indicators_BRFSS2015.csv\")\n",
    "\n",
    "print(df1.shape)\n",
    "print(df2.shape)\n",
    "print(df3.shape)"
   ]
  },
  {
   "cell_type": "code",
   "execution_count": 3,
   "id": "d38874de-ba80-4440-85f4-e4cf4291a9bb",
   "metadata": {},
   "outputs": [
    {
     "name": "stdout",
     "output_type": "stream",
     "text": [
      "False\n"
     ]
    }
   ],
   "source": [
    "# Check if df1 and df3 have same columns' names (and order) or not\n",
    "print(df1.columns.equals(df3.columns))"
   ]
  },
  {
   "cell_type": "code",
   "execution_count": 4,
   "id": "0fff5362-9268-4259-b6d9-7ec4785f5355",
   "metadata": {},
   "outputs": [
    {
     "name": "stdout",
     "output_type": "stream",
     "text": [
      "False\n"
     ]
    }
   ],
   "source": [
    "# Comparing sorted column names (order doesn't matter)\n",
    "print(sorted(df1.columns) == sorted(df2.columns))"
   ]
  },
  {
   "cell_type": "code",
   "execution_count": 5,
   "id": "74de3105-662a-42ff-9da0-3049bf52b9de",
   "metadata": {},
   "outputs": [
    {
     "name": "stdout",
     "output_type": "stream",
     "text": [
      "Are they exactly the same? False\n"
     ]
    }
   ],
   "source": [
    "# Another way to compare if they're the same or not through shape, column names, row indices, same data values at every position.\n",
    "is_exact = df1.equals(df3)\n",
    "print(\"Are they exactly the same?\", is_exact)"
   ]
  },
  {
   "cell_type": "code",
   "execution_count": 6,
   "id": "8ff89404-aa77-473f-af23-96e1742e9382",
   "metadata": {},
   "outputs": [
    {
     "name": "stdout",
     "output_type": "stream",
     "text": [
      "Same content: False\n"
     ]
    }
   ],
   "source": [
    "# Checks for exact row-by-row equality (column order, row order, data values, same index)\n",
    "hash1 = pd.util.hash_pandas_object(df1).sum()\n",
    "hash2 = pd.util.hash_pandas_object(df3).sum()\n",
    "print(\"Same content:\", hash1 == hash2)"
   ]
  }
 ],
 "metadata": {
  "kernelspec": {
   "display_name": "Python 3 (ipykernel)",
   "language": "python",
   "name": "python3"
  },
  "language_info": {
   "codemirror_mode": {
    "name": "ipython",
    "version": 3
   },
   "file_extension": ".py",
   "mimetype": "text/x-python",
   "name": "python",
   "nbconvert_exporter": "python",
   "pygments_lexer": "ipython3",
   "version": "3.12.4"
  }
 },
 "nbformat": 4,
 "nbformat_minor": 5
}
